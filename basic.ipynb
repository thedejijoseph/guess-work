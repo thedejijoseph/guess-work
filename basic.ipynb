{
 "cells": [
  {
   "cell_type": "code",
   "execution_count": 26,
   "metadata": {},
   "outputs": [
    {
     "data": {
      "text/plain": [
       "array([[2.]])"
      ]
     },
     "execution_count": 26,
     "metadata": {},
     "output_type": "execute_result"
    }
   ],
   "source": [
    "func_y = lambda x: (2 * x) - 1\n",
    "\n",
    "X = range(1200)\n",
    "y = [func_y(i) for i in X]\n",
    "\n",
    "import sklearn\n",
    "import numpy as np\n",
    "\n",
    "from sklearn import utils\n",
    "\n",
    "dataset = utils.Bunch()\n",
    "dataset.data = np.array(X).reshape(-1, 1)\n",
    "dataset.target = np.array(y).reshape(-1, 1)\n",
    "\n",
    "from sklearn import linear_model\n",
    "model = linear_model.LinearRegression()\n",
    "\n",
    "model.fit(dataset.data, dataset.target)\n",
    "\n",
    "test_X = np.array([i for i in range(3, 1200)]).reshape(-1, 1)\n",
    "test_y = np.array([func_y(i) for i in test_X]).reshape(-1, 1)\n",
    "pred_y = model.predict(test_X)\n",
    "\n",
    "# for testing\n",
    "from sklearn import metrics\n",
    "scorer = metrics.explained_variance_score\n",
    "score = scorer(test_y, pred_y)\n",
    "\n",
    "model.coef_"
   ]
  },
  {
   "cell_type": "code",
   "execution_count": 27,
   "metadata": {},
   "outputs": [
    {
     "data": {
      "text/plain": [
       "1.0"
      ]
     },
     "execution_count": 27,
     "metadata": {},
     "output_type": "execute_result"
    }
   ],
   "source": [
    "cal_corl = metrics.r2_score\n",
    "cal_corl(test_y, pred_y)"
   ]
  },
  {
   "cell_type": "code",
   "execution_count": 19,
   "metadata": {},
   "outputs": [
    {
     "data": {
      "image/png": "[encoded data removed]",
      "text/plain": [
       "<Figure size 432x288 with 1 Axes>"
      ]
     },
     "metadata": {},
     "output_type": "display_data"
    }
   ],
   "source": [
    "from matplotlib import pyplot as plt\n",
    "plt.scatter(X, y)\n",
    "\n",
    "plt.xlabel(\"number\")\n",
    "plt.ylabel(\"calculated number\")\n",
    "\n",
    "plt.show()"
   ]
  },
  {
   "cell_type": "code",
   "execution_count": null,
   "metadata": {},
   "outputs": [],
   "source": []
  }
 ],
 "metadata": {
  "kernelspec": {
   "display_name": "Python 3",
   "language": "python",
   "name": "python3"
  },
  "language_info": {
   "codemirror_mode": {
    "name": "ipython",
    "version": 3
   },
   "file_extension": ".py",
   "mimetype": "text/x-python",
   "name": "python",
   "nbconvert_exporter": "python",
   "pygments_lexer": "ipython3",
   "version": "3.6.5"
  }
 },
 "nbformat": 4,
 "nbformat_minor": 2
}
