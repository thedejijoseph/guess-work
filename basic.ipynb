{
 "cells": [
  {
   "cell_type": "code",
   "execution_count": 13,
   "metadata": {},
   "outputs": [],
   "source": [
    "func_y = lambda x: (2 * x) - 1\n",
    "\n",
    "X = range(1200)\n",
    "y = [func_y(i) for i in X]\n",
    "\n",
    "import sklearn\n",
    "import numpy as np\n",
    "\n",
    "from sklearn import utils\n",
    "\n",
    "dataset = utils.Bunch()\n",
    "dataset.data = np.array(X).reshape(-1, 1)\n",
    "dataset.target = np.array(y).reshape(-1, 1)\n",
    "\n",
    "from sklearn import linear_model\n",
    "model = linear_model.LinearRegression()\n",
    "\n",
    "model.fit(dataset.data, dataset.target)\n",
    "\n",
    "test_X = np.array([i for i in range(3, 1200)]).reshape(-1, 1)\n",
    "test_y = np.array([func_y(i) for i in test_X]).reshape(-1, 1)\n",
    "pred_y = model.predict(test_X)\n",
    "\n",
    "from sklearn import metrics\n",
    "scorer = metrics.explained_variance_score\n",
    "scorer(test_y, pred_y)\n",
    "# outputs 1.0"
   ]
  }
 ],
 "metadata": {
  "kernelspec": {
   "display_name": "Python 3",
   "language": "python",
   "name": "python3"
  },
  "language_info": {
   "codemirror_mode": {
    "name": "ipython",
    "version": 3
   },
   "file_extension": ".py",
   "mimetype": "text/x-python",
   "name": "python",
   "nbconvert_exporter": "python",
   "pygments_lexer": "ipython3",
   "version": "3.6.5"
  }
 },
 "nbformat": 4,
 "nbformat_minor": 2
}
